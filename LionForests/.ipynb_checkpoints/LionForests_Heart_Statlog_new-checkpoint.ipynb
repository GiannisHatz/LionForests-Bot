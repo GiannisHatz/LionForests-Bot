{
 "cells": [
  {
   "cell_type": "markdown",
   "metadata": {},
   "source": [
    "# This notebook contains the experiments on Heart Statlog dataset with LionForests"
   ]
  },
  {
   "cell_type": "code",
   "execution_count": 1,
   "metadata": {},
   "outputs": [],
   "source": [
    "from LionForests import LionForests\n",
    "from sklearn.preprocessing import StandardScaler, MinMaxScaler\n",
    "import pandas as pd \n",
    "import numpy as np\n",
    "import urllib"
   ]
  },
  {
   "cell_type": "markdown",
   "metadata": {},
   "source": [
    "Firstly, we load the dataset and we set the feature and class names"
   ]
  },
  {
   "cell_type": "code",
   "execution_count": 2,
   "metadata": {},
   "outputs": [],
   "source": [
    "url=\"http://archive.ics.uci.edu/ml/machine-learning-databases/statlog/heart/heart.dat\"\n",
    "raw_data = urllib.request.urlopen(url)\n",
    "credit=np.genfromtxt(raw_data)\n",
    "X,y = credit[:,:-1], credit[:,-1].squeeze()\n",
    "feature_names = ['age','sex','chest pain','resting blood pressure','serum cholestoral',\n",
    "               'fasting blood sugar','resting electrocardiographic results','maximum heart rate achieved','exercise induced angina','oldpeak',\n",
    "               'the slope of the peak exercise','number of major vessels','reversable defect']\n",
    "class_names = ['absence','presence']"
   ]
  },
  {
   "cell_type": "markdown",
   "metadata": {},
   "source": [
    "This dataset contains few instances. Only 270"
   ]
  },
  {
   "cell_type": "code",
   "execution_count": 3,
   "metadata": {},
   "outputs": [
    {
     "data": {
      "text/plain": [
       "270"
      ]
     },
     "execution_count": 3,
     "metadata": {},
     "output_type": "execute_result"
    }
   ],
   "source": [
    "len(X)"
   ]
  },
  {
   "cell_type": "markdown",
   "metadata": {},
   "source": [
    "We can explore the features of this dataset"
   ]
  },
  {
   "cell_type": "code",
   "execution_count": 4,
   "metadata": {
    "scrolled": true
   },
   "outputs": [
    {
     "data": {
      "text/html": [
       "<div>\n",
       "<style scoped>\n",
       "    .dataframe tbody tr th:only-of-type {\n",
       "        vertical-align: middle;\n",
       "    }\n",
       "\n",
       "    .dataframe tbody tr th {\n",
       "        vertical-align: top;\n",
       "    }\n",
       "\n",
       "    .dataframe thead th {\n",
       "        text-align: right;\n",
       "    }\n",
       "</style>\n",
       "<table border=\"1\" class=\"dataframe\">\n",
       "  <thead>\n",
       "    <tr style=\"text-align: right;\">\n",
       "      <th></th>\n",
       "      <th>age</th>\n",
       "      <th>sex</th>\n",
       "      <th>chest pain</th>\n",
       "      <th>resting blood pressure</th>\n",
       "      <th>serum cholestoral</th>\n",
       "      <th>fasting blood sugar</th>\n",
       "      <th>resting electrocardiographic results</th>\n",
       "      <th>maximum heart rate achieved</th>\n",
       "      <th>exercise induced angina</th>\n",
       "      <th>oldpeak</th>\n",
       "      <th>the slope of the peak exercise</th>\n",
       "      <th>number of major vessels</th>\n",
       "      <th>reversable defect</th>\n",
       "    </tr>\n",
       "  </thead>\n",
       "  <tbody>\n",
       "    <tr>\n",
       "      <th>count</th>\n",
       "      <td>270.000000</td>\n",
       "      <td>270.000000</td>\n",
       "      <td>270.000000</td>\n",
       "      <td>270.000000</td>\n",
       "      <td>270.000000</td>\n",
       "      <td>270.000000</td>\n",
       "      <td>270.000000</td>\n",
       "      <td>270.000000</td>\n",
       "      <td>270.000000</td>\n",
       "      <td>270.00000</td>\n",
       "      <td>270.000000</td>\n",
       "      <td>270.000000</td>\n",
       "      <td>270.000000</td>\n",
       "    </tr>\n",
       "    <tr>\n",
       "      <th>mean</th>\n",
       "      <td>54.433333</td>\n",
       "      <td>0.677778</td>\n",
       "      <td>3.174074</td>\n",
       "      <td>131.344444</td>\n",
       "      <td>249.659259</td>\n",
       "      <td>0.148148</td>\n",
       "      <td>1.022222</td>\n",
       "      <td>149.677778</td>\n",
       "      <td>0.329630</td>\n",
       "      <td>1.05000</td>\n",
       "      <td>1.585185</td>\n",
       "      <td>0.670370</td>\n",
       "      <td>4.696296</td>\n",
       "    </tr>\n",
       "    <tr>\n",
       "      <th>std</th>\n",
       "      <td>9.109067</td>\n",
       "      <td>0.468195</td>\n",
       "      <td>0.950090</td>\n",
       "      <td>17.861608</td>\n",
       "      <td>51.686237</td>\n",
       "      <td>0.355906</td>\n",
       "      <td>0.997891</td>\n",
       "      <td>23.165717</td>\n",
       "      <td>0.470952</td>\n",
       "      <td>1.14521</td>\n",
       "      <td>0.614390</td>\n",
       "      <td>0.943896</td>\n",
       "      <td>1.940659</td>\n",
       "    </tr>\n",
       "    <tr>\n",
       "      <th>min</th>\n",
       "      <td>29.000000</td>\n",
       "      <td>0.000000</td>\n",
       "      <td>1.000000</td>\n",
       "      <td>94.000000</td>\n",
       "      <td>126.000000</td>\n",
       "      <td>0.000000</td>\n",
       "      <td>0.000000</td>\n",
       "      <td>71.000000</td>\n",
       "      <td>0.000000</td>\n",
       "      <td>0.00000</td>\n",
       "      <td>1.000000</td>\n",
       "      <td>0.000000</td>\n",
       "      <td>3.000000</td>\n",
       "    </tr>\n",
       "    <tr>\n",
       "      <th>25%</th>\n",
       "      <td>48.000000</td>\n",
       "      <td>0.000000</td>\n",
       "      <td>3.000000</td>\n",
       "      <td>120.000000</td>\n",
       "      <td>213.000000</td>\n",
       "      <td>0.000000</td>\n",
       "      <td>0.000000</td>\n",
       "      <td>133.000000</td>\n",
       "      <td>0.000000</td>\n",
       "      <td>0.00000</td>\n",
       "      <td>1.000000</td>\n",
       "      <td>0.000000</td>\n",
       "      <td>3.000000</td>\n",
       "    </tr>\n",
       "    <tr>\n",
       "      <th>50%</th>\n",
       "      <td>55.000000</td>\n",
       "      <td>1.000000</td>\n",
       "      <td>3.000000</td>\n",
       "      <td>130.000000</td>\n",
       "      <td>245.000000</td>\n",
       "      <td>0.000000</td>\n",
       "      <td>2.000000</td>\n",
       "      <td>153.500000</td>\n",
       "      <td>0.000000</td>\n",
       "      <td>0.80000</td>\n",
       "      <td>2.000000</td>\n",
       "      <td>0.000000</td>\n",
       "      <td>3.000000</td>\n",
       "    </tr>\n",
       "    <tr>\n",
       "      <th>75%</th>\n",
       "      <td>61.000000</td>\n",
       "      <td>1.000000</td>\n",
       "      <td>4.000000</td>\n",
       "      <td>140.000000</td>\n",
       "      <td>280.000000</td>\n",
       "      <td>0.000000</td>\n",
       "      <td>2.000000</td>\n",
       "      <td>166.000000</td>\n",
       "      <td>1.000000</td>\n",
       "      <td>1.60000</td>\n",
       "      <td>2.000000</td>\n",
       "      <td>1.000000</td>\n",
       "      <td>7.000000</td>\n",
       "    </tr>\n",
       "    <tr>\n",
       "      <th>max</th>\n",
       "      <td>77.000000</td>\n",
       "      <td>1.000000</td>\n",
       "      <td>4.000000</td>\n",
       "      <td>200.000000</td>\n",
       "      <td>564.000000</td>\n",
       "      <td>1.000000</td>\n",
       "      <td>2.000000</td>\n",
       "      <td>202.000000</td>\n",
       "      <td>1.000000</td>\n",
       "      <td>6.20000</td>\n",
       "      <td>3.000000</td>\n",
       "      <td>3.000000</td>\n",
       "      <td>7.000000</td>\n",
       "    </tr>\n",
       "  </tbody>\n",
       "</table>\n",
       "</div>"
      ],
      "text/plain": [
       "              age         sex  chest pain  resting blood pressure  \\\n",
       "count  270.000000  270.000000  270.000000              270.000000   \n",
       "mean    54.433333    0.677778    3.174074              131.344444   \n",
       "std      9.109067    0.468195    0.950090               17.861608   \n",
       "min     29.000000    0.000000    1.000000               94.000000   \n",
       "25%     48.000000    0.000000    3.000000              120.000000   \n",
       "50%     55.000000    1.000000    3.000000              130.000000   \n",
       "75%     61.000000    1.000000    4.000000              140.000000   \n",
       "max     77.000000    1.000000    4.000000              200.000000   \n",
       "\n",
       "       serum cholestoral  fasting blood sugar  \\\n",
       "count         270.000000           270.000000   \n",
       "mean          249.659259             0.148148   \n",
       "std            51.686237             0.355906   \n",
       "min           126.000000             0.000000   \n",
       "25%           213.000000             0.000000   \n",
       "50%           245.000000             0.000000   \n",
       "75%           280.000000             0.000000   \n",
       "max           564.000000             1.000000   \n",
       "\n",
       "       resting electrocardiographic results  maximum heart rate achieved  \\\n",
       "count                            270.000000                   270.000000   \n",
       "mean                               1.022222                   149.677778   \n",
       "std                                0.997891                    23.165717   \n",
       "min                                0.000000                    71.000000   \n",
       "25%                                0.000000                   133.000000   \n",
       "50%                                2.000000                   153.500000   \n",
       "75%                                2.000000                   166.000000   \n",
       "max                                2.000000                   202.000000   \n",
       "\n",
       "       exercise induced angina    oldpeak  the slope of the peak exercise  \\\n",
       "count               270.000000  270.00000                      270.000000   \n",
       "mean                  0.329630    1.05000                        1.585185   \n",
       "std                   0.470952    1.14521                        0.614390   \n",
       "min                   0.000000    0.00000                        1.000000   \n",
       "25%                   0.000000    0.00000                        1.000000   \n",
       "50%                   0.000000    0.80000                        2.000000   \n",
       "75%                   1.000000    1.60000                        2.000000   \n",
       "max                   1.000000    6.20000                        3.000000   \n",
       "\n",
       "       number of major vessels  reversable defect  \n",
       "count               270.000000         270.000000  \n",
       "mean                  0.670370           4.696296  \n",
       "std                   0.943896           1.940659  \n",
       "min                   0.000000           3.000000  \n",
       "25%                   0.000000           3.000000  \n",
       "50%                   0.000000           3.000000  \n",
       "75%                   1.000000           7.000000  \n",
       "max                   3.000000           7.000000  "
      ]
     },
     "execution_count": 4,
     "metadata": {},
     "output_type": "execute_result"
    }
   ],
   "source": [
    "pd.DataFrame(X,columns=feature_names).describe()"
   ]
  },
  {
   "cell_type": "markdown",
   "metadata": {},
   "source": [
    "Then, we can train our random forests model using LionForests"
   ]
  },
  {
   "cell_type": "code",
   "execution_count": 5,
   "metadata": {
    "scrolled": true
   },
   "outputs": [
    {
     "name": "stdout",
     "output_type": "stream",
     "text": [
      "Fitting 10 folds for each of 1 candidates, totalling 10 fits\n"
     ]
    },
    {
     "name": "stderr",
     "output_type": "stream",
     "text": [
      "[Parallel(n_jobs=-1)]: Using backend LokyBackend with 4 concurrent workers.\n",
      "[Parallel(n_jobs=-1)]: Done  10 out of  10 | elapsed:    4.7s finished\n"
     ]
    }
   ],
   "source": [
    "y = [int(i-1) for i in y] \n",
    "parameters = [{\n",
    "    'max_depth': [5],\n",
    "    'max_features': ['sqrt'],\n",
    "    'bootstrap': [False],\n",
    "    'min_samples_leaf' : [5],\n",
    "    'n_estimators': [500]\n",
    "}]\n",
    "lf = LionForests(class_names=class_names)\n",
    "scaler = MinMaxScaler(feature_range=(-1,1))\n",
    "lf.train(X, y, scaler, feature_names, parameters)"
   ]
  },
  {
   "cell_type": "markdown",
   "metadata": {},
   "source": [
    "And we can see the number of estimators and the best set of parameters"
   ]
  },
  {
   "cell_type": "code",
   "execution_count": 6,
   "metadata": {},
   "outputs": [
    {
     "name": "stdout",
     "output_type": "stream",
     "text": [
      "Accuracy: 0.8188916011524707 , Number of estimators: 500\n",
      "RandomForestClassifier(bootstrap=False, ccp_alpha=0.0, class_weight=None,\n",
      "                       criterion='gini', max_depth=5, max_features='sqrt',\n",
      "                       max_leaf_nodes=None, max_samples=None,\n",
      "                       min_impurity_decrease=0.0, min_impurity_split=None,\n",
      "                       min_samples_leaf=5, min_samples_split=2,\n",
      "                       min_weight_fraction_leaf=0.0, n_estimators=500,\n",
      "                       n_jobs=-1, oob_score=False, random_state=0, verbose=0,\n",
      "                       warm_start=False)\n"
     ]
    }
   ],
   "source": [
    "number_of_estimators = lf.model.n_estimators\n",
    "print(\"Accuracy:\",lf.accuracy,\", Number of estimators:\",lf.number_of_estimators)\n",
    "print(lf.model)"
   ]
  },
  {
   "cell_type": "markdown",
   "metadata": {},
   "source": [
    "Now, we are ready to produce explanations using lionForests"
   ]
  },
  {
   "cell_type": "code",
   "execution_count": 7,
   "metadata": {
    "scrolled": true
   },
   "outputs": [
    {
     "name": "stdout",
     "output_type": "stream",
     "text": [
      "['if 3.0<=reversable defect<=4.5 & 2.5<=chest pain<=3.49 & 0.0<=number of major vessels<=0.51 & 0.124<=oldpeak<=0.248 & 0.0<=exercise induced angina<=0.5 & 137.81<=maximum heart rate achieved<=140.43 & 1.0<=the slope of the peak exercise<=1.5 & 47.72<=age<=49.64 & 272.73<=serum cholestoral<=290.25 & 0.0<=sex<=0.5 then absence', 490, 13, 251, 10, {'reversable defect': [3.0, 4.5], 'chest pain': [2.5, 3.49], 'number of major vessels': [0.0, 0.51], 'oldpeak': [0.12400000000000011, 0.2479999999999999], 'exercise induced angina': [0.0, 0.5], 'maximum heart rate achieved': [137.81000000000003, 140.43000000000004], 'the slope of the peak exercise': [1.0, 1.5], 'age': [47.72, 49.63999999999999], 'serum cholestoral': [272.73, 290.25000000000006], 'sex': [0.0, 0.5]}]\n"
     ]
    }
   ],
   "source": [
    "rule = lf.following_breadcrumbs(X[25], False, True, False, complexity=2)\n",
    "print(rule)"
   ]
  },
  {
   "cell_type": "code",
   "execution_count": 8,
   "metadata": {
    "scrolled": true
   },
   "outputs": [
    {
     "name": "stdout",
     "output_type": "stream",
     "text": [
      "---------FEATURES THAT GOT REDUCED FROM LF BELOW---------\n",
      "resting blood pressure\n",
      "fasting blood sugar\n",
      "resting electrocardiographic results\n",
      "---------NEW FEATURE VALUES BELOW [left,middle,right]---------\n",
      "age [46, 48, 50]\n",
      "sex ['0.0000', '0.3008', '0.8008']\n",
      "chest pain ['1.2741', '3.4086', '3.9804']\n",
      "serum cholestoral ['173.5021', '289.8842', '439.0919']\n",
      "maximum heart rate achieved ['85.4716', '140.4274', '192.7684']\n",
      "exercise induced angina ['0.0000', '0.3281', '0.8281']\n",
      "oldpeak ['0.0061', '0.2479', '1.7804']\n",
      "the slope of the peak exercise ['1.0000', '1.3724', '2.2448']\n",
      "number of major vessels ['0.0000', '0.4758', '1.4615']\n",
      "reversable defect ['3.0000', '4.3623', '6.3164']\n",
      "---------FEATURE VALUES THAT MAY CHANGE THE CLASSIFICATION BELOW---------\n"
     ]
    },
    {
     "data": {
      "text/plain": [
       "{0: [],\n",
       " 1: ['0.8008',\n",
       "  0,\n",
       "  0,\n",
       "  0.1042513007628005,\n",
       "  0.16528190783353963,\n",
       "  0.06103060707073914],\n",
       " 2: ['3.9804',\n",
       "  0,\n",
       "  0,\n",
       "  0.1042513007628005,\n",
       "  0.18509948384983768,\n",
       "  0.08084818308703719],\n",
       " 4: [],\n",
       " 7: ['192.7684',\n",
       "  0,\n",
       "  0,\n",
       "  0.1042513007628005,\n",
       "  0.04729645389044345,\n",
       "  0.056954846872357044],\n",
       " 8: ['0.8281',\n",
       "  0,\n",
       "  0,\n",
       "  0.1042513007628005,\n",
       "  0.17007089941060877,\n",
       "  0.06581959864780827],\n",
       " 9: ['1.7804',\n",
       "  0,\n",
       "  0,\n",
       "  0.1042513007628005,\n",
       "  0.19836487230125005,\n",
       "  0.09411357153844956],\n",
       " 10: [],\n",
       " 11: [],\n",
       " 12: ['6.3164',\n",
       "  0,\n",
       "  0,\n",
       "  0.1042513007628005,\n",
       "  0.24472100542570493,\n",
       "  0.14046970466290443]}"
      ]
     },
     "execution_count": 8,
     "metadata": {},
     "output_type": "execute_result"
    }
   ],
   "source": [
    "discrete_features = ['age']\n",
    "lf.check_changes_in_prediction(X[25], rule, discrete_features)"
   ]
  },
  {
   "cell_type": "code",
   "execution_count": 9,
   "metadata": {},
   "outputs": [],
   "source": [
    "#tests below\n",
    "\n",
    "#X[25][2] = 1.5696\n",
    "#lf.following_breadcrumbs(X[25], False, True, False, complexity=4)\n",
    "\n",
    "#X[25][0] = 46\n",
    "#lf.following_breadcrumbs[X[25], False, True, False, complexity=4]\n",
    "\n",
    "#X[25][9] = 0.0197\n",
    "#lf.following_breadcrumbs[X[25], False, True, False, complexity=4]\n",
    "\n",
    "#X[25][12] = 6.7361\n",
    "#lf.following_breadcrumbs[X[25], False, True, False, complexity=4]\n"
   ]
  }
 ],
 "metadata": {
  "kernelspec": {
   "display_name": "Python 3",
   "language": "python",
   "name": "python3"
  },
  "language_info": {
   "codemirror_mode": {
    "name": "ipython",
    "version": 3
   },
   "file_extension": ".py",
   "mimetype": "text/x-python",
   "name": "python",
   "nbconvert_exporter": "python",
   "pygments_lexer": "ipython3",
   "version": "3.7.6"
  }
 },
 "nbformat": 4,
 "nbformat_minor": 4
}
